{
 "cells": [
  {
   "cell_type": "markdown",
   "metadata": {
    "id": "M9VnE6cvt_OK"
   },
   "source": [
    "# Numbers and more in Python!\n"
   ]
  },
  {
   "cell_type": "markdown",
   "metadata": {
    "id": "D4SDje53t_OP"
   },
   "source": [
    "### Basic Arithmetic\n",
    "let us start writing simple python code and get familiair with coding"
   ]
  },
  {
   "cell_type": "code",
   "execution_count": 5,
   "metadata": {
    "id": "gcvDaXWYt_OQ",
    "outputId": "5b9a507a-de5b-4d59-b00c-d4cdef9f6f9b"
   },
   "outputs": [
    {
     "data": {
      "text/plain": [
       "3"
      ]
     },
     "execution_count": 5,
     "metadata": {},
     "output_type": "execute_result"
    }
   ],
   "source": [
    "# Addition --> we will start with the simplest code --> addition.    as we can see that the result(the output) of our code\n",
    "#                                                                    will appear under the cell\n",
    " \n",
    "2+1"
   ]
  },
  {
   "cell_type": "code",
   "execution_count": null,
   "metadata": {
    "id": "0AUwHxP_t_OU",
    "outputId": "2b5b9ae4-6815-478c-f05a-d60079104335"
   },
   "outputs": [
    {
     "data": {
      "text/plain": [
       "2"
      ]
     },
     "execution_count": 8,
     "metadata": {},
     "output_type": "execute_result"
    }
   ],
   "source": [
    "1+1"
   ]
  },
  {
   "cell_type": "code",
   "execution_count": null,
   "metadata": {
    "id": "MU8kY5v0t_OV",
    "outputId": "318de0a3-7948-451a-fd2a-80d807648286"
   },
   "outputs": [
    {
     "data": {
      "text/plain": [
       "-3"
      ]
     },
     "execution_count": 9,
     "metadata": {},
     "output_type": "execute_result"
    }
   ],
   "source": [
    "# Subtraction\n",
    "2-5"
   ]
  },
  {
   "cell_type": "code",
   "execution_count": null,
   "metadata": {
    "id": "U5sPFUh_t_OW",
    "outputId": "656cdeb5-c009-4a16-d22c-8409cd5eccd6"
   },
   "outputs": [
    {
     "data": {
      "text/plain": [
       "4"
      ]
     },
     "execution_count": 10,
     "metadata": {},
     "output_type": "execute_result"
    }
   ],
   "source": [
    "# Multiplication\n",
    "2*2"
   ]
  },
  {
   "cell_type": "code",
   "execution_count": null,
   "metadata": {
    "id": "ykQbTMI_t_OX",
    "outputId": "34b14d80-81e4-41c6-db36-4879f55c2dbd"
   },
   "outputs": [
    {
     "data": {
      "text/plain": [
       "1.5"
      ]
     },
     "execution_count": 11,
     "metadata": {},
     "output_type": "execute_result"
    }
   ],
   "source": [
    "# Division\n",
    "3/2"
   ]
  },
  {
   "cell_type": "code",
   "execution_count": null,
   "metadata": {
    "id": "dzK1JMdgt_OX",
    "outputId": "24fd0540-171c-4dea-d5c4-8f92603b96ef"
   },
   "outputs": [
    {
     "data": {
      "text/plain": [
       "1.75"
      ]
     },
     "execution_count": 6,
     "metadata": {},
     "output_type": "execute_result"
    }
   ],
   "source": [
    "# Floor Division\n",
    "7/4\n"
   ]
  },
  {
   "cell_type": "markdown",
   "metadata": {
    "id": "oVcFde36t_OY"
   },
   "source": [
    "**So what if we just want the remainder after division?**"
   ]
  },
  {
   "cell_type": "code",
   "execution_count": null,
   "metadata": {
    "id": "jyHOAGbZt_OY",
    "outputId": "3e227240-dca0-41a9-bdd1-97f21374c161"
   },
   "outputs": [
    {
     "data": {
      "text/plain": [
       "1"
      ]
     },
     "execution_count": 4,
     "metadata": {},
     "output_type": "execute_result"
    }
   ],
   "source": [
    "7%2\n"
   ]
  },
  {
   "cell_type": "markdown",
   "metadata": {
    "id": "TA7rQjLft_OZ"
   },
   "source": [
    "### Arithmetic continued"
   ]
  },
  {
   "cell_type": "code",
   "execution_count": null,
   "metadata": {
    "id": "HCD-0VHqt_Oa",
    "outputId": "a12bb91b-d095-481c-982b-4fdd2f6cd13b"
   },
   "outputs": [
    {
     "data": {
      "text/plain": [
       "8"
      ]
     },
     "execution_count": 9,
     "metadata": {},
     "output_type": "execute_result"
    }
   ],
   "source": [
    "# Powers\n",
    "2**3"
   ]
  },
  {
   "cell_type": "code",
   "execution_count": null,
   "metadata": {
    "id": "mdP0rwaxt_Oa",
    "outputId": "2788317c-752d-4657-bd88-4c39ac935fc1"
   },
   "outputs": [
    {
     "data": {
      "text/plain": [
       "2.0"
      ]
     },
     "execution_count": 10,
     "metadata": {},
     "output_type": "execute_result"
    }
   ],
   "source": [
    "# Can also do roots this way\n",
    "4**0.5"
   ]
  },
  {
   "cell_type": "code",
   "execution_count": null,
   "metadata": {
    "id": "-6i6ZpaDt_Oa",
    "outputId": "707ba6a0-fb59-44b9-b061-331a8b1969e0"
   },
   "outputs": [
    {
     "data": {
      "text/plain": [
       "105"
      ]
     },
     "execution_count": 9,
     "metadata": {},
     "output_type": "execute_result"
    }
   ],
   "source": [
    "# Order of Operations followed in Python\n",
    "2 + 10 * 10 + 3"
   ]
  },
  {
   "cell_type": "code",
   "execution_count": null,
   "metadata": {
    "id": "tCkq-Fqct_Ob",
    "outputId": "03373afa-238e-43ee-f3cc-1539171505ad"
   },
   "outputs": [
    {
     "data": {
      "text/plain": [
       "156"
      ]
     },
     "execution_count": 10,
     "metadata": {},
     "output_type": "execute_result"
    }
   ],
   "source": [
    "# Can use parentheses to specify orders\n",
    "(2+10) * (10+3)"
   ]
  },
  {
   "cell_type": "markdown",
   "metadata": {
    "id": "daMg2X3Ft_Ob"
   },
   "source": [
    "### Data types\n",
    "\n",
    "#### integers\n",
    "#### floats\n",
    "#### list"
   ]
  },
  {
   "cell_type": "markdown",
   "metadata": {
    "id": "sNNOhvwXt_Ob"
   },
   "source": [
    "#### tuple"
   ]
  },
  {
   "cell_type": "markdown",
   "metadata": {
    "id": "xtv9gkHHt_Oc"
   },
   "source": [
    "#### dictionary\n",
    "#### booleans\n",
    "#### sets"
   ]
  },
  {
   "cell_type": "markdown",
   "metadata": {},
   "source": [
    "# Get the type"
   ]
  },
  {
   "cell_type": "code",
   "execution_count": 1,
   "metadata": {},
   "outputs": [
    {
     "data": {
      "text/plain": [
       "int"
      ]
     },
     "execution_count": 1,
     "metadata": {},
     "output_type": "execute_result"
    }
   ],
   "source": [
    "type(5)"
   ]
  },
  {
   "cell_type": "code",
   "execution_count": 2,
   "metadata": {},
   "outputs": [
    {
     "data": {
      "text/plain": [
       "float"
      ]
     },
     "execution_count": 2,
     "metadata": {},
     "output_type": "execute_result"
    }
   ],
   "source": [
    "type(5.5)"
   ]
  },
  {
   "cell_type": "markdown",
   "metadata": {
    "id": "8xsZ1rA9uBkK"
   },
   "source": [
    "# Print Statements"
   ]
  },
  {
   "cell_type": "markdown",
   "metadata": {},
   "source": [
    "**what if i want to print 5 + 6 and 7 + 9? why in the following cell it only printed 7 + 9**"
   ]
  },
  {
   "cell_type": "code",
   "execution_count": 2,
   "metadata": {},
   "outputs": [
    {
     "data": {
      "text/plain": [
       "16"
      ]
     },
     "execution_count": 2,
     "metadata": {},
     "output_type": "execute_result"
    }
   ],
   "source": [
    "5 + 6 \n",
    "7 + 9"
   ]
  },
  {
   "cell_type": "markdown",
   "metadata": {},
   "source": [
    "**to solve the problem above we use print command**"
   ]
  },
  {
   "cell_type": "code",
   "execution_count": 3,
   "metadata": {},
   "outputs": [
    {
     "name": "stdout",
     "output_type": "stream",
     "text": [
      "11\n",
      "16\n"
     ]
    }
   ],
   "source": [
    "print(5 + 6) \n",
    "print(7 + 9)"
   ]
  },
  {
   "cell_type": "markdown",
   "metadata": {},
   "source": [
    "**Other print examples**"
   ]
  },
  {
   "cell_type": "code",
   "execution_count": null,
   "metadata": {
    "id": "qkl3vyFguBkN",
    "outputId": "4e810039-4703-4ce4-89ef-8608f660fd57"
   },
   "outputs": [
    {
     "name": "stdout",
     "output_type": "stream",
     "text": [
      "Hello World\n"
     ]
    }
   ],
   "source": [
    "print(\"Hello World\")"
   ]
  },
  {
   "cell_type": "code",
   "execution_count": null,
   "metadata": {
    "id": "LRwUzg8tuBkS",
    "outputId": "8a20df80-a226-460b-dd3c-3823aabe9f1d"
   },
   "outputs": [
    {
     "name": "stdout",
     "output_type": "stream",
     "text": [
      "Welcome\n",
      "50\n",
      "3.4\n"
     ]
    }
   ],
   "source": [
    "print(\"Welcome\")\n",
    "print(50)\n",
    "print(3.4)"
   ]
  },
  {
   "cell_type": "markdown",
   "metadata": {},
   "source": [
    "**How to prevent printing new line**"
   ]
  },
  {
   "cell_type": "code",
   "execution_count": null,
   "metadata": {
    "id": "ftIMgVsjuBkT",
    "outputId": "80320069-d11c-49b6-e782-04a082e78580",
    "scrolled": true
   },
   "outputs": [
    {
     "name": "stdout",
     "output_type": "stream",
     "text": [
      "Hello World"
     ]
    }
   ],
   "source": [
    "print(\"Hello\", end=\" \")\n",
    "print(\"World\", end=\"\")"
   ]
  },
  {
   "cell_type": "markdown",
   "metadata": {
    "id": "NhHIRr_OuBkT"
   },
   "source": [
    "# Comments"
   ]
  },
  {
   "cell_type": "markdown",
   "metadata": {
    "id": "6iQC-drmuBkU"
   },
   "source": [
    "**Single Line comment**"
   ]
  },
  {
   "cell_type": "code",
   "execution_count": null,
   "metadata": {
    "id": "dEkRin7huBkU"
   },
   "outputs": [],
   "source": [
    "# print(\"Welcome\")"
   ]
  },
  {
   "cell_type": "markdown",
   "metadata": {
    "id": "Pdx0vbh1uBkU"
   },
   "source": [
    "**Multiple Line comment**"
   ]
  },
  {
   "cell_type": "code",
   "execution_count": null,
   "metadata": {
    "id": "hpSfl_GHuBkU",
    "outputId": "9d4ee7d2-a2a1-40a1-e233-af6e599b845f"
   },
   "outputs": [
    {
     "name": "stdout",
     "output_type": "stream",
     "text": [
      "Amit\n"
     ]
    }
   ],
   "source": [
    "\"\"\"I have started machine\n",
    "learning course at Amit\"\"\"\n",
    "\n",
    "\n",
    "# I have started machine\n",
    "# Learning Course at Amit\n",
    "\n",
    "print(\"Amit\")"
   ]
  },
  {
   "cell_type": "markdown",
   "metadata": {
    "id": "Kc8lI4-ZuBkV"
   },
   "source": [
    "# Variabels"
   ]
  },
  {
   "cell_type": "code",
   "execution_count": null,
   "metadata": {
    "id": "Wh8HMQaVuBkV"
   },
   "outputs": [],
   "source": [
    "name = \"Ahmed\"\n",
    "age = 24\n"
   ]
  },
  {
   "cell_type": "code",
   "execution_count": null,
   "metadata": {
    "id": "uP6kZ0l3uBkV",
    "outputId": "216c3782-6477-4736-ce40-2f79a8350baa"
   },
   "outputs": [
    {
     "name": "stdout",
     "output_type": "stream",
     "text": [
      "26\n"
     ]
    }
   ],
   "source": [
    "age += 1\n",
    "print(age)"
   ]
  },
  {
   "cell_type": "code",
   "execution_count": null,
   "metadata": {
    "id": "U0tXWlzwuBkW",
    "outputId": "629231ef-3514-49a6-bc08-705c79198b19"
   },
   "outputs": [
    {
     "data": {
      "text/plain": [
       "str"
      ]
     },
     "execution_count": 36,
     "metadata": {},
     "output_type": "execute_result"
    }
   ],
   "source": [
    "type(name)"
   ]
  },
  {
   "cell_type": "code",
   "execution_count": null,
   "metadata": {
    "id": "zvBzuslWuBkW",
    "outputId": "56dd6e8a-0f12-4630-f7bf-38bab4b65896"
   },
   "outputs": [
    {
     "name": "stdout",
     "output_type": "stream",
     "text": [
      "1\n"
     ]
    }
   ],
   "source": [
    "#  assign a single value to severalvariables\n",
    "a = b = c = 1\n",
    "print(b)"
   ]
  },
  {
   "cell_type": "code",
   "execution_count": null,
   "metadata": {
    "id": "r4hI7g4puBkW",
    "outputId": "2491328b-e69d-4881-dd87-98ff3270613f",
    "scrolled": true
   },
   "outputs": [
    {
     "name": "stdout",
     "output_type": "stream",
     "text": [
      "Ali\n"
     ]
    }
   ],
   "source": [
    "# assign multiple objects to multiplevariables\n",
    "a, b, c = 1, 2, \"Ali\"\n",
    "print(c)"
   ]
  },
  {
   "cell_type": "code",
   "execution_count": null,
   "metadata": {
    "id": "BwBVMShvuBkW",
    "outputId": "a06491c3-29eb-48fa-aae8-a668ffea324b"
   },
   "outputs": [
    {
     "name": "stdout",
     "output_type": "stream",
     "text": [
      "2\n",
      "5\n"
     ]
    }
   ],
   "source": [
    "# Variables are Case-Sensitive\n",
    "X = 2\n",
    "x = 5\n",
    "print(X)\n",
    "print(x)"
   ]
  },
  {
   "cell_type": "markdown",
   "metadata": {
    "id": "stkjGxnBuBkX"
   },
   "source": [
    "# Multiple line statements & One-line  statements"
   ]
  },
  {
   "cell_type": "markdown",
   "metadata": {
    "id": "UmWLGPAkuBkX"
   },
   "source": [
    "**Multiple Line Statements**"
   ]
  },
  {
   "cell_type": "code",
   "execution_count": null,
   "metadata": {
    "id": "gLX2tC-NuBkX"
   },
   "outputs": [],
   "source": [
    "# Example 1: Breaking a long line\n",
    "message = \"This is a long message that needs to be \" \\\n",
    "          \"broken into multiple lines for readability.\"\n",
    "\n",
    "# Example 2: Continuing an expression\n",
    "result = (2 + 3 +\n",
    "          4 * 5)"
   ]
  },
  {
   "cell_type": "markdown",
   "metadata": {
    "id": "ZRJ3XbufuBkY"
   },
   "source": [
    "**One-line Statements**"
   ]
  },
  {
   "cell_type": "code",
   "execution_count": null,
   "metadata": {
    "id": "NHw9wJetuBkY"
   },
   "outputs": [],
   "source": [
    "x = 10; y = 20; z = x + y\n",
    "\n",
    "name = \"John\"; age = 30; city = \"New York\""
   ]
  },
  {
   "cell_type": "markdown",
   "metadata": {
    "id": "TtkTtv10t_Oc"
   },
   "source": [
    "#### string"
   ]
  },
  {
   "cell_type": "code",
   "execution_count": null,
   "metadata": {
    "id": "Gw588NnYt_Oc"
   },
   "outputs": [],
   "source": []
  }
 ],
 "metadata": {
  "anaconda-cloud": {},
  "colab": {
   "provenance": []
  },
  "kernelspec": {
   "display_name": "Python 3 (ipykernel)",
   "language": "python",
   "name": "python3"
  },
  "language_info": {
   "codemirror_mode": {
    "name": "ipython",
    "version": 3
   },
   "file_extension": ".py",
   "mimetype": "text/x-python",
   "name": "python",
   "nbconvert_exporter": "python",
   "pygments_lexer": "ipython3",
   "version": "3.11.3"
  }
 },
 "nbformat": 4,
 "nbformat_minor": 1
}
