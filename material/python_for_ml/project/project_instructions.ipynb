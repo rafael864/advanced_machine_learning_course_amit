{
 "cells": [
  {
   "cell_type": "markdown",
   "metadata": {},
   "source": [
    "\n",
    "## Final Project - Python Module .\n",
    "### Task-1\n",
    "Task Description:\n",
    "Objective: Convert the function-based code into an object-oriented class structure.\n",
    "\n",
    "Problem Statement:\n",
    "\n",
    "- Step 1: Start with Functions\n",
    "\n",
    "Function Definition: Write a Python function that manages a bank account. This function should:\n",
    "\n",
    "- Take an initial balance as input.\n",
    "- Allow deposits, withdrawals, and checking the current balance.\n"
   ]
  },
  {
   "cell_type": "markdown",
   "metadata": {},
   "source": [
    "Step 2: Convert to Classes\n",
    "Now, convert this procedural code into an object-oriented approach using classes.\n",
    "\n",
    "Class Definition: Create a class called BankAccount that:\n",
    "\n",
    "- Has an attribute for balance.\n",
    "- Has methods for deposit(), withdraw(), and check_balance().\n",
    "- Implements input validation (e.g., no negative deposits or withdrawals).\n",
    "\n",
    "Task Requirement:\n",
    "\n",
    "- Define the BankAccount class.\n",
    "- Add an initializer (__init__) to set the initial balance.\n",
    "- Implement the deposit(), withdraw(), and check_balance() methods.\n",
    "- Demonstrate the use of the class by creating an account and performing operations similar to the function example."
   ]
  },
  {
   "cell_type": "markdown",
   "metadata": {},
   "source": [
    "## Task-2\n",
    "### Convert calculator functions to class methods"
   ]
  },
  {
   "cell_type": "markdown",
   "metadata": {},
   "source": [
    "## Task-3\n",
    "\n",
    "Create an abstract class Animal and derive specific animal classes from it. Each derived class should implement the abstract methods defined in the Animal class.\n",
    "\n",
    "Instructions:\n",
    "\n",
    "Define an Abstract Class:\n",
    "\n",
    "- Create an abstract class named Animal.\n",
    "\n",
    "This class should have the following:\n",
    "\n",
    "- An abstract method make_sound(self) which will be implemented by all subclasses.\n",
    "- A concrete method describe(self) that prints a general description of the animal.\n",
    "\n",
    "Create Derived Classes:\n",
    "\n",
    "- Create at least three subclasses of Animal, such as Dog, Cat, and Cow.\n",
    "- Each subclass must implement the make_sound(self) method to return the sound the animal makes.\n",
    "\n",
    "Test Your Classes:\n",
    "\n",
    "- Instantiate each subclass and call both the make_sound(self) and describe(self) methods.\n",
    "- Ensure that the output is clear and displays the correct sound for each animal."
   ]
  },
  {
   "cell_type": "markdown",
   "metadata": {},
   "source": [
    "## task-4\n",
    "Create a class called TextFileReader that encapsulates functionality for reading a text file, counting lines, words, and characters, and displaying the contents of the file.\n",
    "\n",
    "Instructions:\n",
    "\n",
    "Define the Class:\n",
    "\n",
    "- Create a class named TextFileReader.\n",
    "\n",
    "The class should have the following attributes:\n",
    "\n",
    "- file_path: A string that holds the path to the text file.\n",
    "\n",
    "Implement Methods:\n",
    "\n",
    "- Constructor (__init__): Initialize the file_path attribute.\n",
    "- read_file(self): This method should open the file, read its contents, and store the contents in an attribute named content.\n",
    "- count_lines(self): This method should return the number of lines in the file.\n",
    "- count_words(self): This method should return the total number of words in the file.\n",
    "- count_characters(self): This method should return the total number of characters in the file.\n",
    "- display_content(self): This method should print the content of the file.\n",
    "\n",
    "Test Your Class:\n",
    "\n",
    "- Create an instance of the TextFileReader class with a valid text file path.\n",
    "- Call the methods to read the file, count lines, words, characters, and display the content."
   ]
  },
  {
   "cell_type": "markdown",
   "metadata": {},
   "source": [
    "## Task-5\n",
    "\n",
    "Task 7. on workshop \n",
    "- Write a Python program to find all the unique words and count the frequency of occurrence from a given list of strings\n",
    "\n",
    "- **Ex:** [\"Welcome\", \"Ali\", \"Hi\", \"Ali\", \"No\", \"Hi\", \"No\", \"Ali\", \"No\", \"Ali\"]  → {'Ali': 4, 'Welcome': 1, 'No': 3, 'Hi': 2}\n",
    "\n",
    "### convert to function"
   ]
  },
  {
   "cell_type": "markdown",
   "metadata": {},
   "source": [
    "### Task-6\n",
    "read file from hard disk"
   ]
  },
  {
   "cell_type": "markdown",
   "metadata": {},
   "source": [
    "## Requirements\n",
    "\n",
    "1. **Functionality:**\n",
    "   - Implement a function `read_txt_file(file_path)` that reads the contents of a specified text file and returns it as a string. Ensure the function handles exceptions such as file not found or IO errors gracefully.\n",
    "\n",
    "2. **Class Structure:**\n",
    "   - Create a class named `UserExtractor` with the following:\n",
    "     - An `__init__` method that initializes the class with:\n",
    "       - `file_path`: The path to the text file.\n",
    "       - `usernames`: A dictionary to store usernames.\n",
    "     - A method `extract_usernames` that uses the `read_txt_file` function to read the contents of the text file and extracts usernames into a dictionary. \n",
    "       - Assume the format of each line in the file is `username:password`.\n",
    "\n",
    "3. **Assumptions:**\n",
    "   - Each line in the text file is formatted as `username:password`.\n",
    "   - Usernames should be unique in the dictionary.\n",
    "\n",
    "4. **Error Handling:**\n",
    "   - If there is an error in reading the file, ensure that the method returns an appropriate error message.\n"
   ]
  },
  {
   "cell_type": "markdown",
   "metadata": {},
   "source": [
    "### Task-7 optional "
   ]
  },
  {
   "cell_type": "markdown",
   "metadata": {},
   "source": [
    "# Hospital UML"
   ]
  },
  {
   "cell_type": "markdown",
   "metadata": {},
   "source": []
  },
  {
   "cell_type": "markdown",
   "metadata": {},
   "source": [
    "### For the last session we work on store project i convert it into functions so that will help you to splite it into classes so kindly used this idea to implement user interface hospital system "
   ]
  }
 ],
 "metadata": {
  "language_info": {
   "name": "python"
  }
 },
 "nbformat": 4,
 "nbformat_minor": 2
}
